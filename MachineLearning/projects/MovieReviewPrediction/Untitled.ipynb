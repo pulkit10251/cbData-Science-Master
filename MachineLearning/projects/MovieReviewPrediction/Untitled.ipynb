{
 "cells": [
  {
   "cell_type": "markdown",
   "metadata": {},
   "source": [
    "# Bag of words pipeline\n",
    "- Get the data\n",
    "- Tokenisation, stopword removal\n",
    "- stemming/lemitisation\n",
    "- Building a vocab\n",
    "- vectorization\n",
    "- classification"
   ]
  },
  {
   "cell_type": "code",
   "execution_count": 4,
   "metadata": {},
   "outputs": [],
   "source": [
    "sample_text=\"\"\"I loved this movie since I was 7 and I saw it on the opening day. It was so touching and beautiful. I strongly recommend seeing for all. It's a movie to watch with your family by far. My MPAA rating: PG-13 for thematic elements, prolonged scenes of disastor, nudity/sexuality and some language.\"\"\""
   ]
  },
  {
   "cell_type": "markdown",
   "metadata": {},
   "source": [
    "# Tokenize"
   ]
  },
  {
   "cell_type": "code",
   "execution_count": 5,
   "metadata": {},
   "outputs": [],
   "source": [
    "from nltk.tokenize import sent_tokenize,word_tokenize"
   ]
  },
  {
   "cell_type": "code",
   "execution_count": 6,
   "metadata": {},
   "outputs": [
    {
     "name": "stdout",
     "output_type": "stream",
     "text": [
      "['I loved this movie since I was 7 and I saw it on the opening day.', 'It was so touching and beautiful.', 'I strongly recommend seeing for all.', \"It's a movie to watch with your family by far.\", 'My MPAA rating: PG-13 for thematic elements, prolonged scenes of disastor, nudity/sexuality and some language.']\n"
     ]
    }
   ],
   "source": [
    "sentence=sent_tokenize(sample_text)\n",
    "print(sentence)"
   ]
  },
  {
   "cell_type": "code",
   "execution_count": 7,
   "metadata": {},
   "outputs": [],
   "source": [
    "words=[]\n",
    "for sent in sentence:\n",
    "    w=word_tokenize(sent)\n",
    "    words.append(w)"
   ]
  },
  {
   "cell_type": "code",
   "execution_count": 8,
   "metadata": {},
   "outputs": [
    {
     "name": "stdout",
     "output_type": "stream",
     "text": [
      "[['I', 'loved', 'this', 'movie', 'since', 'I', 'was', '7', 'and', 'I', 'saw', 'it', 'on', 'the', 'opening', 'day', '.'], ['It', 'was', 'so', 'touching', 'and', 'beautiful', '.'], ['I', 'strongly', 'recommend', 'seeing', 'for', 'all', '.'], ['It', \"'s\", 'a', 'movie', 'to', 'watch', 'with', 'your', 'family', 'by', 'far', '.'], ['My', 'MPAA', 'rating', ':', 'PG-13', 'for', 'thematic', 'elements', ',', 'prolonged', 'scenes', 'of', 'disastor', ',', 'nudity/sexuality', 'and', 'some', 'language', '.']]\n"
     ]
    }
   ],
   "source": [
    "print(words)"
   ]
  },
  {
   "cell_type": "markdown",
   "metadata": {},
   "source": [
    "# stopword removal"
   ]
  },
  {
   "cell_type": "code",
   "execution_count": 10,
   "metadata": {},
   "outputs": [],
   "source": [
    "from nltk.corpus import stopwords"
   ]
  },
  {
   "cell_type": "code",
   "execution_count": 13,
   "metadata": {},
   "outputs": [],
   "source": [
    "sw=set(stopwords.words('English'))"
   ]
  },
  {
   "cell_type": "code",
   "execution_count": 23,
   "metadata": {},
   "outputs": [],
   "source": [
    "def removal_stopwords(words,stopwords):\n",
    "    li=[]\n",
    "    for ww in words:\n",
    "        usefulwords=[w for w in ww if w not in stopwords]\n",
    "        li.append(usefulwords)\n",
    "    \n",
    "    return li"
   ]
  },
  {
   "cell_type": "code",
   "execution_count": 24,
   "metadata": {},
   "outputs": [],
   "source": [
    "li=removal_stopwords(words,sw)"
   ]
  },
  {
   "cell_type": "code",
   "execution_count": 25,
   "metadata": {},
   "outputs": [
    {
     "name": "stdout",
     "output_type": "stream",
     "text": [
      "[['I', 'loved', 'movie', 'since', 'I', '7', 'I', 'saw', 'opening', 'day', '.'], ['It', 'touching', 'beautiful', '.'], ['I', 'strongly', 'recommend', 'seeing', '.'], ['It', \"'s\", 'movie', 'watch', 'family', 'far', '.'], ['My', 'MPAA', 'rating', ':', 'PG-13', 'thematic', 'elements', ',', 'prolonged', 'scenes', 'disastor', ',', 'nudity/sexuality', 'language', '.']]\n"
     ]
    }
   ],
   "source": [
    "print(li)"
   ]
  },
  {
   "cell_type": "markdown",
   "metadata": {},
   "source": [
    "# stemming"
   ]
  },
  {
   "cell_type": "code",
   "execution_count": 47,
   "metadata": {},
   "outputs": [],
   "source": [
    "from nltk.stem.snowball import SnowballStemmer"
   ]
  },
  {
   "cell_type": "code",
   "execution_count": 48,
   "metadata": {},
   "outputs": [],
   "source": [
    "ss=SnowballStemmer('english')"
   ]
  },
  {
   "cell_type": "code",
   "execution_count": 49,
   "metadata": {},
   "outputs": [],
   "source": [
    "def stemming(li):\n",
    "    stemmed_doc=[]\n",
    "    \n",
    "    for l in li:\n",
    "        stemmed_sent=[]\n",
    "        for words in l:\n",
    "            w=ss.stem(words)\n",
    "            stemmed_sent.append(w)\n",
    "        stemmed_doc.append(stemmed_sent)\n",
    "    \n",
    "    return stemmed_doc \n",
    "    "
   ]
  },
  {
   "cell_type": "code",
   "execution_count": 50,
   "metadata": {},
   "outputs": [],
   "source": [
    "doc=stemming(li)"
   ]
  },
  {
   "cell_type": "code",
   "execution_count": 56,
   "metadata": {},
   "outputs": [],
   "source": [
    "data=[]\n",
    "for w in doc:\n",
    "    sentence=\" \".join(w)\n",
    "    data.append(sentence)"
   ]
  },
  {
   "cell_type": "code",
   "execution_count": 57,
   "metadata": {},
   "outputs": [
    {
     "name": "stdout",
     "output_type": "stream",
     "text": [
      "['i love movi sinc i 7 i saw open day .', 'it touch beauti .', 'i strong recommend see .', \"it 's movi watch famili far .\", 'my mpaa rate : pg-13 themat element , prolong scene disastor , nudity/sexu languag .']\n"
     ]
    }
   ],
   "source": [
    "print(data)"
   ]
  },
  {
   "cell_type": "markdown",
   "metadata": {},
   "source": [
    "# vectorisation"
   ]
  },
  {
   "cell_type": "code",
   "execution_count": 58,
   "metadata": {},
   "outputs": [],
   "source": [
    "from sklearn.feature_extraction.text import CountVectorizer "
   ]
  },
  {
   "cell_type": "code",
   "execution_count": 59,
   "metadata": {},
   "outputs": [],
   "source": [
    "cv=CountVectorizer()"
   ]
  },
  {
   "cell_type": "code",
   "execution_count": 64,
   "metadata": {},
   "outputs": [],
   "source": [
    "transcformed_data=cv.fit_transform(data).toarray()"
   ]
  },
  {
   "cell_type": "code",
   "execution_count": 65,
   "metadata": {},
   "outputs": [
    {
     "name": "stdout",
     "output_type": "stream",
     "text": [
      "[[0 0 1 0 0 0 0 0 0 1 1 0 0 0 1 0 0 0 0 1 0 0 0 1 0 0 0 0]\n",
      " [0 1 0 0 0 0 0 1 0 0 0 0 0 0 0 0 0 0 0 0 0 0 0 0 0 0 1 0]\n",
      " [0 0 0 0 0 0 0 0 0 0 0 0 0 0 0 0 0 0 1 0 0 1 0 0 1 0 0 0]\n",
      " [0 0 0 0 0 1 1 1 0 0 1 0 0 0 0 0 0 0 0 0 0 0 0 0 0 0 0 1]\n",
      " [1 0 0 1 1 0 0 0 1 0 0 1 1 1 0 1 1 1 0 0 1 0 1 0 0 1 0 0]]\n"
     ]
    }
   ],
   "source": [
    "print(transcformed_data)"
   ]
  },
  {
   "cell_type": "code",
   "execution_count": 66,
   "metadata": {},
   "outputs": [
    {
     "name": "stdout",
     "output_type": "stream",
     "text": [
      "{'love': 9, 'movi': 10, 'sinc': 23, 'saw': 19, 'open': 14, 'day': 2, 'it': 7, 'touch': 26, 'beauti': 1, 'strong': 24, 'recommend': 18, 'see': 21, 'watch': 27, 'famili': 5, 'far': 6, 'my': 12, 'mpaa': 11, 'rate': 17, 'pg': 15, '13': 0, 'themat': 25, 'element': 4, 'prolong': 16, 'scene': 20, 'disastor': 3, 'nudity': 13, 'sexu': 22, 'languag': 8}\n"
     ]
    }
   ],
   "source": [
    "print(cv.vocabulary_)"
   ]
  },
  {
   "cell_type": "markdown",
   "metadata": {},
   "source": [
    "######################################"
   ]
  },
  {
   "cell_type": "code",
   "execution_count": null,
   "metadata": {},
   "outputs": [],
   "source": []
  }
 ],
 "metadata": {
  "kernelspec": {
   "display_name": "Python 3",
   "language": "python",
   "name": "python3"
  },
  "language_info": {
   "codemirror_mode": {
    "name": "ipython",
    "version": 3
   },
   "file_extension": ".py",
   "mimetype": "text/x-python",
   "name": "python",
   "nbconvert_exporter": "python",
   "pygments_lexer": "ipython3",
   "version": "3.7.5"
  }
 },
 "nbformat": 4,
 "nbformat_minor": 2
}
