{
 "cells": [
  {
   "cell_type": "markdown",
   "metadata": {},
   "source": [
    "# locally Weighted Regression\n",
    "### 1.) Read and normalize the Dataset\n",
    "### 2.) Generate W\n",
    "### 3.) No Training is required, make prediction directly\n",
    "###    (X.TWX).inv*(X.TWY)\n",
    "### 4.) find the best value of tau(cross validation)\n"
   ]
  },
  {
   "cell_type": "code",
   "execution_count": null,
   "metadata": {},
   "outputs": [],
   "source": []
  }
 ],
 "metadata": {
  "kernelspec": {
   "display_name": "Python 3",
   "language": "python",
   "name": "python3"
  },
  "language_info": {
   "codemirror_mode": {
    "name": "ipython",
    "version": 3
   },
   "file_extension": ".py",
   "mimetype": "text/x-python",
   "name": "python",
   "nbconvert_exporter": "python",
   "pygments_lexer": "ipython3",
   "version": "3.7.5"
  }
 },
 "nbformat": 4,
 "nbformat_minor": 2
}
