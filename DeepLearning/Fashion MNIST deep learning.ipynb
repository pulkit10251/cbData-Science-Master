{
 "cells": [
  {
   "cell_type": "code",
   "execution_count": null,
   "metadata": {},
   "outputs": [],
   "source": []
  },
  {
   "cell_type": "code",
   "execution_count": 1,
   "metadata": {},
   "outputs": [],
   "source": [
    "import pandas as pd\n",
    "import numpy as np\n",
    "import matplotlib.pyplot as plt\n",
    "from keras.models import Sequential\n",
    "from keras.layers import Convolution2D,MaxPooling2D,Dense,Flatten,Dropout\n",
    "from keras.utils import np_utils\n",
    "import tensorflow"
   ]
  },
  {
   "cell_type": "markdown",
   "metadata": {},
   "source": [
    "# Data Preperation"
   ]
  },
  {
   "cell_type": "code",
   "execution_count": 3,
   "metadata": {},
   "outputs": [
    {
     "name": "stdout",
     "output_type": "stream",
     "text": [
      "(10000, 784) (10000,)\n"
     ]
    }
   ],
   "source": [
    "x=pd.read_csv(\"fashion-mnist.csv\")\n",
    "X_=np.array(x)\n",
    "X=X_[:,1:]\n",
    "X=X/255\n",
    "Y=X_[:,0]\n",
    "\n",
    "print(X.shape,Y.shape)\n"
   ]
  },
  {
   "cell_type": "code",
   "execution_count": 5,
   "metadata": {},
   "outputs": [
    {
     "name": "stdout",
     "output_type": "stream",
     "text": [
      "(10000, 28, 28, 1) (10000, 10)\n"
     ]
    }
   ],
   "source": [
    "X_train=X.reshape(-1,28,28,1)\n",
    "Y_train=np_utils.to_categorical(Y)\n",
    "\n",
    "print(X_train.shape,Y_train.shape)"
   ]
  },
  {
   "cell_type": "code",
   "execution_count": 13,
   "metadata": {},
   "outputs": [
    {
     "data": {
      "text/plain": [
       "<matplotlib.image.AxesImage at 0x9d0e35ff48>"
      ]
     },
     "execution_count": 13,
     "metadata": {},
     "output_type": "execute_result"
    },
    {
     "data": {
      "image/png": "[encoded data removed]",
      "text/plain": [
       "<Figure size 432x288 with 1 Axes>"
      ]
     },
     "metadata": {
      "needs_background": "light"
     },
     "output_type": "display_data"
    }
   ],
   "source": [
    "plt.imshow(X_train[0].reshape(28,28),cmap='gray')"
   ]
  },
  {
   "cell_type": "markdown",
   "metadata": {},
   "source": [
    "# CNN model"
   ]
  },
  {
   "cell_type": "code",
   "execution_count": 17,
   "metadata": {},
   "outputs": [
    {
     "name": "stdout",
     "output_type": "stream",
     "text": [
      "Model: \"sequential_1\"\n",
      "_________________________________________________________________\n",
      "Layer (type)                 Output Shape              Param #   \n",
      "=================================================================\n",
      "conv2d_1 (Conv2D)            (None, 26, 26, 32)        320       \n",
      "_________________________________________________________________\n",
      "conv2d_2 (Conv2D)            (None, 24, 24, 64)        18496     \n",
      "_________________________________________________________________\n",
      "dropout_1 (Dropout)          (None, 24, 24, 64)        0         \n",
      "_________________________________________________________________\n",
      "max_pooling2d_1 (MaxPooling2 (None, 12, 12, 64)        0         \n",
      "_________________________________________________________________\n",
      "conv2d_3 (Conv2D)            (None, 8, 8, 32)          51232     \n",
      "_________________________________________________________________\n",
      "conv2d_4 (Conv2D)            (None, 4, 4, 8)           6408      \n",
      "_________________________________________________________________\n",
      "flatten_1 (Flatten)          (None, 128)               0         \n",
      "_________________________________________________________________\n",
      "dense_1 (Dense)              (None, 10)                1290      \n",
      "=================================================================\n",
      "Total params: 77,746\n",
      "Trainable params: 77,746\n",
      "Non-trainable params: 0\n",
      "_________________________________________________________________\n"
     ]
    }
   ],
   "source": [
    "model=Sequential()\n",
    "model.add(Convolution2D(32,(3,3),activation='relu',input_shape=(28,28,1)))\n",
    "model.add(Convolution2D(64,(3,3),activation='relu'))\n",
    "model.add(Dropout(0.25))\n",
    "model.add(MaxPooling2D(2,2))\n",
    "model.add(Convolution2D(32,(5,5),activation='relu'))\n",
    "model.add(Convolution2D(8,(5,5),activation='relu'))\n",
    "model.add(Flatten())\n",
    "model.add(Dense(10,activation='softmax'))\n",
    "model.summary()\n",
    "\n",
    "\n"
   ]
  },
  {
   "cell_type": "code",
   "execution_count": 21,
   "metadata": {},
   "outputs": [],
   "source": [
    "model.compile(loss=\"categorical_crossentropy\",optimizer=\"adam\",metrics=[\"accuracy\"])"
   ]
  },
  {
   "cell_type": "code",
   "execution_count": 22,
   "metadata": {},
   "outputs": [
    {
     "name": "stdout",
     "output_type": "stream",
     "text": [
      "Train on 8000 samples, validate on 2000 samples\n",
      "Epoch 1/20\n",
      "8000/8000 [==============================] - 34s 4ms/step - loss: 1.4649 - accuracy: 0.4931 - val_loss: 0.9494 - val_accuracy: 0.6745\n",
      "Epoch 2/20\n",
      "8000/8000 [==============================] - 33s 4ms/step - loss: 0.7609 - accuracy: 0.7220 - val_loss: 0.6617 - val_accuracy: 0.7770\n",
      "Epoch 3/20\n",
      "8000/8000 [==============================] - 36s 4ms/step - loss: 0.6041 - accuracy: 0.7815 - val_loss: 0.6046 - val_accuracy: 0.7985\n",
      "Epoch 4/20\n",
      "8000/8000 [==============================] - 35s 4ms/step - loss: 0.5528 - accuracy: 0.7989 - val_loss: 0.5766 - val_accuracy: 0.8000\n",
      "Epoch 5/20\n",
      "8000/8000 [==============================] - 31s 4ms/step - loss: 0.4864 - accuracy: 0.8278 - val_loss: 0.4896 - val_accuracy: 0.8345\n",
      "Epoch 6/20\n",
      "8000/8000 [==============================] - 36s 4ms/step - loss: 0.4547 - accuracy: 0.8385 - val_loss: 0.4727 - val_accuracy: 0.8340\n",
      "Epoch 7/20\n",
      "8000/8000 [==============================] - 35s 4ms/step - loss: 0.4377 - accuracy: 0.8415 - val_loss: 0.4795 - val_accuracy: 0.8420\n",
      "Epoch 8/20\n",
      "8000/8000 [==============================] - 37s 5ms/step - loss: 0.4071 - accuracy: 0.8547 - val_loss: 0.4115 - val_accuracy: 0.8625\n",
      "Epoch 9/20\n",
      "8000/8000 [==============================] - 35s 4ms/step - loss: 0.3784 - accuracy: 0.8625 - val_loss: 0.4282 - val_accuracy: 0.8525\n",
      "Epoch 10/20\n",
      "8000/8000 [==============================] - 35s 4ms/step - loss: 0.3600 - accuracy: 0.8723 - val_loss: 0.3953 - val_accuracy: 0.8590\n",
      "Epoch 11/20\n",
      "8000/8000 [==============================] - 37s 5ms/step - loss: 0.3443 - accuracy: 0.8777 - val_loss: 0.3951 - val_accuracy: 0.8680\n",
      "Epoch 12/20\n",
      "8000/8000 [==============================] - 32s 4ms/step - loss: 0.3320 - accuracy: 0.8827 - val_loss: 0.3885 - val_accuracy: 0.8665\n",
      "Epoch 13/20\n",
      "8000/8000 [==============================] - 33s 4ms/step - loss: 0.3148 - accuracy: 0.8856 - val_loss: 0.3721 - val_accuracy: 0.8720\n",
      "Epoch 14/20\n",
      "8000/8000 [==============================] - 35s 4ms/step - loss: 0.3062 - accuracy: 0.8860 - val_loss: 0.3728 - val_accuracy: 0.8695\n",
      "Epoch 15/20\n",
      "8000/8000 [==============================] - 35s 4ms/step - loss: 0.2916 - accuracy: 0.8953 - val_loss: 0.3624 - val_accuracy: 0.8780\n",
      "Epoch 16/20\n",
      "8000/8000 [==============================] - 34s 4ms/step - loss: 0.2714 - accuracy: 0.9051 - val_loss: 0.3657 - val_accuracy: 0.8625\n",
      "Epoch 17/20\n",
      "8000/8000 [==============================] - 33s 4ms/step - loss: 0.2610 - accuracy: 0.9038 - val_loss: 0.3371 - val_accuracy: 0.8840\n",
      "Epoch 18/20\n",
      "8000/8000 [==============================] - 34s 4ms/step - loss: 0.2532 - accuracy: 0.9081 - val_loss: 0.3389 - val_accuracy: 0.8865\n",
      "Epoch 19/20\n",
      "8000/8000 [==============================] - 35s 4ms/step - loss: 0.2517 - accuracy: 0.9071 - val_loss: 0.3460 - val_accuracy: 0.8825\n",
      "Epoch 20/20\n",
      "8000/8000 [==============================] - 36s 4ms/step - loss: 0.2327 - accuracy: 0.9159 - val_loss: 0.3818 - val_accuracy: 0.8655\n"
     ]
    }
   ],
   "source": [
    "hist=model.fit(X_train,Y_train,epochs=20,batch_size=256,shuffle=True,validation_split=0.2)"
   ]
  },
  {
   "cell_type": "code",
   "execution_count": 29,
   "metadata": {},
   "outputs": [
    {
     "data": {
      "text/plain": [
       "[<matplotlib.lines.Line2D at 0x9d2420ddc8>]"
      ]
     },
     "execution_count": 29,
     "metadata": {},
     "output_type": "execute_result"
    },
    {
     "data": {
      "image/png": "[encoded data removed]",
      "text/plain": [
       "<Figure size 432x288 with 1 Axes>"
      ]
     },
     "metadata": {
      "needs_background": "light"
     },
     "output_type": "display_data"
    }
   ],
   "source": [
    "h=hist.history\n",
    "plt.plot(h['accuracy'])\n",
    "plt.plot(h['val_accuracy'])\n",
    "plt.plot(h['loss'])\n",
    "plt.plot(h['val_loss'])"
   ]
  },
  {
   "cell_type": "code",
   "execution_count": 30,
   "metadata": {},
   "outputs": [],
   "source": [
    "model.fit_generator?"
   ]
  },
  {
   "cell_type": "code",
   "execution_count": null,
   "metadata": {},
   "outputs": [],
   "source": []
  }
 ],
 "metadata": {
  "kernelspec": {
   "display_name": "Python 3",
   "language": "python",
   "name": "python3"
  },
  "language_info": {
   "codemirror_mode": {
    "name": "ipython",
    "version": 3
   },
   "file_extension": ".py",
   "mimetype": "text/x-python",
   "name": "python",
   "nbconvert_exporter": "python",
   "pygments_lexer": "ipython3",
   "version": "3.7.5"
  }
 },
 "nbformat": 4,
 "nbformat_minor": 2
}
