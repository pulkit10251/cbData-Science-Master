{
 "cells": [
  {
   "cell_type": "code",
   "execution_count": 1,
   "metadata": {},
   "outputs": [],
   "source": [
    "import gensim"
   ]
  },
  {
   "cell_type": "code",
   "execution_count": 3,
   "metadata": {},
   "outputs": [],
   "source": [
    "from gensim.models import word2vec\n",
    "from gensim.models import KeyedVectors\n",
    "from sklearn.metrics.pairwise import cosine_similarity\n"
   ]
  },
  {
   "cell_type": "code",
   "execution_count": 8,
   "metadata": {},
   "outputs": [],
   "source": [
    "word_vectors=KeyedVectors.load_word2vec_format(\"GoogleNews-vectors-negative300.bin.gz\",binary=True)"
   ]
  },
  {
   "cell_type": "code",
   "execution_count": 9,
   "metadata": {},
   "outputs": [],
   "source": [
    "import numpy as np\n",
    "def odd_one_out(words):\n",
    "    \n",
    "    all_word_vectors=[word_vectors[w] for w in words]\n",
    "    avg_vec=np.mean(all_word_vectors,axis=0)\n",
    "    #print(avg_vec.shape)\n",
    "    \n",
    "    odd_one_out=None\n",
    "    min_similarity=1.0\n",
    "    \n",
    "    for w in words:\n",
    "        sim=cosine_similarity([word_vectors[w]],[avg_vec])\n",
    "        if sim < min_similarity:\n",
    "            min_similarity=sim\n",
    "            odd_one_out=w\n",
    "            \n",
    "    return odd_one_out"
   ]
  },
  {
   "cell_type": "code",
   "execution_count": 10,
   "metadata": {},
   "outputs": [],
   "source": [
    "import pandas as pd"
   ]
  },
  {
   "cell_type": "code",
   "execution_count": 14,
   "metadata": {},
   "outputs": [],
   "source": [
    "df=pd.read_csv(\"Test/Test.csv\").values"
   ]
  },
  {
   "cell_type": "code",
   "execution_count": 17,
   "metadata": {},
   "outputs": [
    {
     "name": "stdout",
     "output_type": "stream",
     "text": [
      "(300,)\n",
      "(300,)\n",
      "(300,)\n",
      "(300,)\n",
      "(300,)\n",
      "(300,)\n",
      "(300,)\n",
      "(300,)\n",
      "(300,)\n",
      "(300,)\n",
      "(300,)\n",
      "(300,)\n",
      "(300,)\n",
      "(300,)\n",
      "(300,)\n",
      "(300,)\n",
      "(300,)\n",
      "(300,)\n",
      "(300,)\n",
      "(300,)\n"
     ]
    }
   ],
   "source": [
    "ans=[]\n",
    "\n",
    "for i in range(20):\n",
    "    a=odd_one_out(df[i])\n",
    "    ans.append(a)"
   ]
  },
  {
   "cell_type": "code",
   "execution_count": 18,
   "metadata": {},
   "outputs": [
    {
     "data": {
      "text/plain": [
       "['snake',\n",
       " 'teacher',\n",
       " 'cat',\n",
       " 'pineapple',\n",
       " 'India',\n",
       " 'is',\n",
       " 'was',\n",
       " 'Australia',\n",
       " 'Money',\n",
       " 'think',\n",
       " 'ship',\n",
       " 'Rome',\n",
       " 'Pool',\n",
       " 'Egypt',\n",
       " 'mouse',\n",
       " 'helmet',\n",
       " 'Universe',\n",
       " 'Kill',\n",
       " 'Club',\n",
       " 'Sun']"
      ]
     },
     "execution_count": 18,
     "metadata": {},
     "output_type": "execute_result"
    }
   ],
   "source": [
    "ans"
   ]
  },
  {
   "cell_type": "code",
   "execution_count": 20,
   "metadata": {},
   "outputs": [],
   "source": [
    "df1=pd.DataFrame(columns=[\"OddOne\"],data=ans)\n",
    "df1.to_csv(\"Submission.csv\",index=False)"
   ]
  },
  {
   "cell_type": "code",
   "execution_count": 29,
   "metadata": {},
   "outputs": [],
   "source": [
    "def read_glove_vectors(trainedWeightsFile = \"glove6b50dtxt/glove.6B.50d.txt\"):\n",
    "    f = open(trainedWeightsFile,encoding=\"utf8\")\n",
    "    word_embeddings_matrix = {}\n",
    "    for wordAndEmbeddings in f:\n",
    "        line = wordAndEmbeddings.split()\n",
    "        word= line[0]\n",
    "        coefs = np.asarray(line[1:], dtype = 'float32')\n",
    "        word_embeddings_matrix[word] = coefs\n",
    "    f.close()\n",
    "    return word_embeddings_matrix"
   ]
  },
  {
   "cell_type": "code",
   "execution_count": 30,
   "metadata": {},
   "outputs": [],
   "source": [
    "word_embeddings=read_glove_vectors()"
   ]
  },
  {
   "cell_type": "code",
   "execution_count": 44,
   "metadata": {},
   "outputs": [],
   "source": [
    "def odd_one_out(words):\n",
    "    \n",
    "    all_word_vectors=[word_embeddings[w.lower()] for w in words]\n",
    "    avg_vec=np.mean(all_word_vectors,axis=0)\n",
    "    #print(avg_vec.shape)\n",
    "    \n",
    "    odd_one_out=None\n",
    "    min_similarity=1.0\n",
    "    \n",
    "    for w in words:\n",
    "        sim=cosine_similarity([word_embeddings[w.lower()]],[avg_vec])\n",
    "        if sim < min_similarity:\n",
    "            min_similarity=sim\n",
    "            odd_one_out=w\n",
    "            \n",
    "    return odd_one_out"
   ]
  },
  {
   "cell_type": "code",
   "execution_count": 45,
   "metadata": {},
   "outputs": [],
   "source": [
    "ans=[]\n",
    "\n",
    "for i in range(20):\n",
    "    a=odd_one_out(df[i])\n",
    "    ans.append(a)"
   ]
  },
  {
   "cell_type": "code",
   "execution_count": 46,
   "metadata": {},
   "outputs": [
    {
     "data": {
      "text/plain": [
       "['tiger',\n",
       " 'postman',\n",
       " 'bird',\n",
       " 'pineapple',\n",
       " 'India',\n",
       " 'who',\n",
       " 'was',\n",
       " 'Australia',\n",
       " 'Money',\n",
       " 'dance',\n",
       " 'ship',\n",
       " 'England',\n",
       " 'Pool',\n",
       " 'Egypt',\n",
       " 'jackal',\n",
       " 'veil',\n",
       " 'Universe',\n",
       " 'Stab',\n",
       " 'Club',\n",
       " 'Sun']"
      ]
     },
     "execution_count": 46,
     "metadata": {},
     "output_type": "execute_result"
    }
   ],
   "source": [
    "ans"
   ]
  },
  {
   "cell_type": "code",
   "execution_count": 47,
   "metadata": {},
   "outputs": [],
   "source": [
    "df1=pd.DataFrame(columns=[\"OddOne\"],data=ans)\n",
    "df1.to_csv(\"Submission1.csv\",index=False)"
   ]
  },
  {
   "cell_type": "code",
   "execution_count": 51,
   "metadata": {},
   "outputs": [],
   "source": [
    "lst=[\"snake\",\"teacher\",\"cat\",\"pineapple\",\"India\",\"is\",\"was\",\"Australia\",\"Money\",\"eat\",\"ship\",\"Rome\",\"Pool\",\"mouse\",\"helmet\",\"Universe\",\"Kill\",\"Club\",\"Sun\"]"
   ]
  },
  {
   "cell_type": "code",
   "execution_count": 52,
   "metadata": {},
   "outputs": [],
   "source": [
    "df1=pd.DataFrame(columns=[\"OddOne\"],data=lst)\n",
    "df1.to_csv(\"Submission2.csv\",index=False)"
   ]
  },
  {
   "cell_type": "code",
   "execution_count": null,
   "metadata": {},
   "outputs": [],
   "source": []
  }
 ],
 "metadata": {
  "kernelspec": {
   "display_name": "Python 3",
   "language": "python",
   "name": "python3"
  },
  "language_info": {
   "codemirror_mode": {
    "name": "ipython",
    "version": 3
   },
   "file_extension": ".py",
   "mimetype": "text/x-python",
   "name": "python",
   "nbconvert_exporter": "python",
   "pygments_lexer": "ipython3",
   "version": "3.7.5"
  }
 },
 "nbformat": 4,
 "nbformat_minor": 2
}
