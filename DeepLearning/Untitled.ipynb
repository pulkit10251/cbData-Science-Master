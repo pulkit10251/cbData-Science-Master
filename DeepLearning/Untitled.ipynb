{
 "cells": [
  {
   "cell_type": "markdown",
   "metadata": {},
   "source": [
    "# Data Augmentation and Image Pipeline"
   ]
  },
  {
   "cell_type": "code",
   "execution_count": 1,
   "metadata": {},
   "outputs": [
    {
     "name": "stderr",
     "output_type": "stream",
     "text": [
      "Using TensorFlow backend.\n"
     ]
    }
   ],
   "source": [
    "import numpy as np\n",
    "import keras\n",
    "from keras.preprocessing import image\n",
    "from keras.preprocessing.image import ImageDataGenerator"
   ]
  },
  {
   "cell_type": "code",
   "execution_count": 2,
   "metadata": {},
   "outputs": [],
   "source": [
    "train_image_gen=ImageDataGenerator(\n",
    "    rescale=1/255.0,\n",
    "    rotation_range=40,\n",
    "    width_shift_range=0.2,\n",
    "    height_shift_range=0.2,\n",
    "    shear_range=0.2,\n",
    "    zoom_range=0.3,\n",
    "    horizontal_flip=True\n",
    ")\n",
    "\n",
    "test_image_gen=ImageDataGenerator(\n",
    "    rescale=1/255.0\n",
    ")\n",
    "\n",
    "val_image_gen=ImageDataGenerator(\n",
    "    rescale=1/255.0\n",
    ")"
   ]
  },
  {
   "cell_type": "code",
   "execution_count": 3,
   "metadata": {},
   "outputs": [
    {
     "name": "stdout",
     "output_type": "stream",
     "text": [
      "Found 100000 images belonging to 200 classes.\n",
      "Found 10000 images belonging to 1 classes.\n"
     ]
    }
   ],
   "source": [
    "train_gen=train_image_gen.flow_from_directory(\n",
    "    \"tiny-imagenet-200/train\",\n",
    "    target_size=((224,224)),\n",
    "    batch_size=128,\n",
    ")\n",
    "\n",
    "val_gen=val_image_gen.flow_from_directory(\n",
    "    \"tiny-imagenet-200/val\",\n",
    "    target_size=((224,224)),\n",
    "    batch_size=128\n",
    ")"
   ]
  },
  {
   "cell_type": "code",
   "execution_count": 4,
   "metadata": {},
   "outputs": [],
   "source": [
    "img=image.load_img(\"cat.jpg\")\n",
    "x=image.img_to_array(img)"
   ]
  },
  {
   "cell_type": "code",
   "execution_count": 5,
   "metadata": {},
   "outputs": [
    {
     "name": "stdout",
     "output_type": "stream",
     "text": [
      "(667, 1000, 3)\n"
     ]
    }
   ],
   "source": [
    "print(x.shape)"
   ]
  },
  {
   "cell_type": "code",
   "execution_count": 6,
   "metadata": {},
   "outputs": [],
   "source": [
    "x=x.reshape(1,667,1000,3)"
   ]
  },
  {
   "cell_type": "code",
   "execution_count": 7,
   "metadata": {},
   "outputs": [],
   "source": [
    "i=0\n",
    "for batch in train_image_gen.flow(x,batch_size=1,save_to_dir='preview',save_prefix=\"cat\",save_format='jpg'):\n",
    "    i+=1\n",
    "    if(i>20):\n",
    "        break\n",
    "    "
   ]
  },
  {
   "cell_type": "code",
   "execution_count": 8,
   "metadata": {},
   "outputs": [],
   "source": [
    "class_ids=train_gen.class_indices"
   ]
  },
  {
   "cell_type": "code",
   "execution_count": 9,
   "metadata": {},
   "outputs": [],
   "source": [
    "import os"
   ]
  },
  {
   "cell_type": "code",
   "execution_count": 10,
   "metadata": {},
   "outputs": [],
   "source": [
    "def load_validation_data(target_size,no_of_classes):\n",
    "    with open(\"tiny-imagenet-200/val/val_annotations.txt\") as f:\n",
    "        lines=f.readlines()\n",
    "        m=len(lines)\n",
    "        X=np.empty((m,*target_size,3))\n",
    "        Y=np.empty(m,dtype=int)\n",
    "        \n",
    "        for i,line in enumerate(lines):\n",
    "            token=line.split()\n",
    "            img_name=token[0]\n",
    "            img_label=token[1]\n",
    "            \n",
    "            img_url=os.path.join(\"tiny-imagenet-200/val/images\",img_name)\n",
    "            img=image.load_img(img_url)\n",
    "            img=img.resize(target_size)\n",
    "            X[i,]=np.array(img,dtype=np.float32)/255.0\n",
    "            img.close()\n",
    "            Y[i]=class_ids[img_label]\n",
    "    return X,keras.utils.to_categorical(Y,num_classes=no_of_classes)            "
   ]
  },
  {
   "cell_type": "code",
   "execution_count": 11,
   "metadata": {},
   "outputs": [],
   "source": [
    "X_val,Y_val=load_validation_data((224,224),200)"
   ]
  },
  {
   "cell_type": "code",
   "execution_count": 12,
   "metadata": {},
   "outputs": [
    {
     "name": "stdout",
     "output_type": "stream",
     "text": [
      "(10000, 224, 224, 3) (10000, 200)\n"
     ]
    }
   ],
   "source": [
    "print(X_val.shape,Y_val.shape)"
   ]
  },
  {
   "cell_type": "code",
   "execution_count": null,
   "metadata": {},
   "outputs": [],
   "source": []
  }
 ],
 "metadata": {
  "kernelspec": {
   "display_name": "Python 3",
   "language": "python",
   "name": "python3"
  },
  "language_info": {
   "codemirror_mode": {
    "name": "ipython",
    "version": 3
   },
   "file_extension": ".py",
   "mimetype": "text/x-python",
   "name": "python",
   "nbconvert_exporter": "python",
   "pygments_lexer": "ipython3",
   "version": "3.7.5"
  }
 },
 "nbformat": 4,
 "nbformat_minor": 2
}
