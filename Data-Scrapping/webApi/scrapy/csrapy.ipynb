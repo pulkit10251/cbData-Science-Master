{
 "cells": [
  {
   "cell_type": "code",
   "execution_count": 1,
   "metadata": {},
   "outputs": [
    {
     "name": "stdout",
     "output_type": "stream",
     "text": [
      "Collecting scrapy\n",
      "  Downloading https://files.pythonhosted.org/packages/29/4b/585e8e111ffb01466c59281f34febb13ad1a95d7fb3919fd57c33fc732a5/Scrapy-1.7.3-py2.py3-none-any.whl (234kB)\n",
      "Collecting service-identity (from scrapy)\n",
      "  Downloading https://files.pythonhosted.org/packages/e9/7c/2195b890023e098f9618d43ebc337d83c8b38d414326685339eb024db2f6/service_identity-18.1.0-py2.py3-none-any.whl\n",
      "Collecting w3lib>=1.17.0 (from scrapy)\n",
      "  Downloading https://files.pythonhosted.org/packages/6a/45/1ba17c50a0bb16bd950c9c2b92ec60d40c8ebda9f3371ae4230c437120b6/w3lib-1.21.0-py2.py3-none-any.whl\n",
      "Collecting queuelib (from scrapy)\n",
      "  Downloading https://files.pythonhosted.org/packages/4c/85/ae64e9145f39dd6d14f8af3fa809a270ef3729f3b90b3c0cf5aa242ab0d4/queuelib-1.5.0-py2.py3-none-any.whl\n",
      "Collecting Twisted>=13.1.0; python_version != \"3.4\" (from scrapy)\n",
      "  Downloading https://files.pythonhosted.org/packages/ee/d9/5b79fef4a7d7dc4d526151904eae5dd207f80433ae646a258b32abbe77d4/Twisted-19.7.0-cp37-cp37m-win_amd64.whl (3.1MB)\n",
      "Requirement already satisfied: pyOpenSSL in c:\\users\\dell\\anaconda3\\envs\\py37\\lib\\site-packages (from scrapy) (19.0.0)\n",
      "Collecting parsel>=1.5 (from scrapy)\n",
      "  Downloading https://files.pythonhosted.org/packages/86/c8/fc5a2f9376066905dfcca334da2a25842aedfda142c0424722e7c497798b/parsel-1.5.2-py2.py3-none-any.whl\n",
      "Requirement already satisfied: six>=1.5.2 in c:\\users\\dell\\anaconda3\\envs\\py37\\lib\\site-packages (from scrapy) (1.12.0)\n",
      "Collecting cssselect>=0.9 (from scrapy)\n",
      "  Downloading https://files.pythonhosted.org/packages/3b/d4/3b5c17f00cce85b9a1e6f91096e1cc8e8ede2e1be8e96b87ce1ed09e92c5/cssselect-1.1.0-py2.py3-none-any.whl\n",
      "Requirement already satisfied: lxml; python_version != \"3.4\" in c:\\users\\dell\\anaconda3\\envs\\py37\\lib\\site-packages (from scrapy) (4.3.2)\n",
      "Collecting PyDispatcher>=2.0.5 (from scrapy)\n",
      "  Downloading https://files.pythonhosted.org/packages/cd/37/39aca520918ce1935bea9c356bcbb7ed7e52ad4e31bff9b943dfc8e7115b/PyDispatcher-2.0.5.tar.gz\n",
      "Requirement already satisfied: attrs>=16.0.0 in c:\\users\\dell\\anaconda3\\envs\\py37\\lib\\site-packages (from service-identity->scrapy) (19.1.0)\n",
      "Requirement already satisfied: cryptography in c:\\users\\dell\\anaconda3\\envs\\py37\\lib\\site-packages (from service-identity->scrapy) (2.6.1)\n",
      "Collecting pyasn1-modules (from service-identity->scrapy)\n",
      "  Downloading https://files.pythonhosted.org/packages/be/70/e5ea8afd6d08a4b99ebfc77bd1845248d56cfcf43d11f9dc324b9580a35c/pyasn1_modules-0.2.6-py2.py3-none-any.whl (95kB)\n",
      "Collecting pyasn1 (from service-identity->scrapy)\n",
      "  Downloading https://files.pythonhosted.org/packages/a1/71/8f0d444e3a74e5640a3d5d967c1c6b015da9c655f35b2d308a55d907a517/pyasn1-0.4.7-py2.py3-none-any.whl (76kB)\n",
      "Collecting Automat>=0.3.0 (from Twisted>=13.1.0; python_version != \"3.4\"->scrapy)\n",
      "  Downloading https://files.pythonhosted.org/packages/a3/86/14c16bb98a5a3542ed8fed5d74fb064a902de3bdd98d6584b34553353c45/Automat-0.7.0-py2.py3-none-any.whl\n",
      "Collecting zope.interface>=4.4.2 (from Twisted>=13.1.0; python_version != \"3.4\"->scrapy)\n",
      "  Downloading https://files.pythonhosted.org/packages/a8/d2/e2fb1052cdf1c1d05a23c5f7a192a8dc104d5afda0539f86b9839264e1cc/zope.interface-4.6.0-cp37-cp37m-win_amd64.whl (133kB)\n",
      "Collecting PyHamcrest>=1.9.0 (from Twisted>=13.1.0; python_version != \"3.4\"->scrapy)\n",
      "  Downloading https://files.pythonhosted.org/packages/9a/d5/d37fd731b7d0e91afcc84577edeccf4638b4f9b82f5ffe2f8b62e2ddc609/PyHamcrest-1.9.0-py2.py3-none-any.whl (52kB)\n",
      "Collecting hyperlink>=17.1.1 (from Twisted>=13.1.0; python_version != \"3.4\"->scrapy)\n",
      "  Downloading https://files.pythonhosted.org/packages/7f/91/e916ca10a2de1cb7101a9b24da546fb90ee14629e23160086cf3361c4fb8/hyperlink-19.0.0-py2.py3-none-any.whl\n",
      "Collecting incremental>=16.10.1 (from Twisted>=13.1.0; python_version != \"3.4\"->scrapy)\n",
      "  Downloading https://files.pythonhosted.org/packages/f5/1d/c98a587dc06e107115cf4a58b49de20b19222c83d75335a192052af4c4b7/incremental-17.5.0-py2.py3-none-any.whl\n",
      "Collecting constantly>=15.1 (from Twisted>=13.1.0; python_version != \"3.4\"->scrapy)\n",
      "  Downloading https://files.pythonhosted.org/packages/b9/65/48c1909d0c0aeae6c10213340ce682db01b48ea900a7d9fce7a7910ff318/constantly-15.1.0-py2.py3-none-any.whl\n",
      "Requirement already satisfied: asn1crypto>=0.21.0 in c:\\users\\dell\\anaconda3\\envs\\py37\\lib\\site-packages (from cryptography->service-identity->scrapy) (0.24.0)\n",
      "Requirement already satisfied: cffi!=1.11.3,>=1.8 in c:\\users\\dell\\anaconda3\\envs\\py37\\lib\\site-packages (from cryptography->service-identity->scrapy) (1.12.2)\n",
      "Requirement already satisfied: setuptools in c:\\users\\dell\\anaconda3\\envs\\py37\\lib\\site-packages (from zope.interface>=4.4.2->Twisted>=13.1.0; python_version != \"3.4\"->scrapy) (40.8.0)\n",
      "Requirement already satisfied: idna>=2.5 in c:\\users\\dell\\anaconda3\\envs\\py37\\lib\\site-packages (from hyperlink>=17.1.1->Twisted>=13.1.0; python_version != \"3.4\"->scrapy) (2.8)\n",
      "Requirement already satisfied: pycparser in c:\\users\\dell\\anaconda3\\envs\\py37\\lib\\site-packages (from cffi!=1.11.3,>=1.8->cryptography->service-identity->scrapy) (2.19)\n",
      "Building wheels for collected packages: PyDispatcher\n",
      "  Building wheel for PyDispatcher (setup.py): started\n",
      "  Building wheel for PyDispatcher (setup.py): finished with status 'done'\n",
      "  Stored in directory: C:\\Users\\Dell\\AppData\\Local\\pip\\Cache\\wheels\\88\\99\\96\\cfef6665f9cb1522ee6757ae5955feedf2fe25f1737f91fa7f\n",
      "Successfully built PyDispatcher\n",
      "Installing collected packages: pyasn1, pyasn1-modules, service-identity, w3lib, queuelib, Automat, zope.interface, PyHamcrest, hyperlink, incremental, constantly, Twisted, cssselect, parsel, PyDispatcher, scrapy\n",
      "Successfully installed Automat-0.7.0 PyDispatcher-2.0.5 PyHamcrest-1.9.0 Twisted-19.7.0 constantly-15.1.0 cssselect-1.1.0 hyperlink-19.0.0 incremental-17.5.0 parsel-1.5.2 pyasn1-0.4.7 pyasn1-modules-0.2.6 queuelib-1.5.0 scrapy-1.7.3 service-identity-18.1.0 w3lib-1.21.0 zope.interface-4.6.0\n"
     ]
    }
   ],
   "source": [
    "!pip install scrapy"
   ]
  },
  {
   "cell_type": "code",
   "execution_count": 2,
   "metadata": {},
   "outputs": [
    {
     "name": "stdout",
     "output_type": "stream",
     "text": [
      "Requirement already satisfied: scrapy in c:\\users\\dell\\anaconda3\\envs\\py37\\lib\\site-packages (1.7.3)\n",
      "Requirement already satisfied: lxml; python_version != \"3.4\" in c:\\users\\dell\\anaconda3\\envs\\py37\\lib\\site-packages (from scrapy) (4.3.2)\n",
      "Requirement already satisfied: cssselect>=0.9 in c:\\users\\dell\\anaconda3\\envs\\py37\\lib\\site-packages (from scrapy) (1.1.0)\n",
      "Requirement already satisfied: service-identity in c:\\users\\dell\\anaconda3\\envs\\py37\\lib\\site-packages (from scrapy) (18.1.0)\n",
      "Requirement already satisfied: Twisted>=13.1.0; python_version != \"3.4\" in c:\\users\\dell\\anaconda3\\envs\\py37\\lib\\site-packages (from scrapy) (19.7.0)\n",
      "Requirement already satisfied: pyOpenSSL in c:\\users\\dell\\anaconda3\\envs\\py37\\lib\\site-packages (from scrapy) (19.0.0)\n",
      "Requirement already satisfied: w3lib>=1.17.0 in c:\\users\\dell\\anaconda3\\envs\\py37\\lib\\site-packages (from scrapy) (1.21.0)\n",
      "Requirement already satisfied: parsel>=1.5 in c:\\users\\dell\\anaconda3\\envs\\py37\\lib\\site-packages (from scrapy) (1.5.2)\n",
      "Requirement already satisfied: six>=1.5.2 in c:\\users\\dell\\anaconda3\\envs\\py37\\lib\\site-packages (from scrapy) (1.12.0)\n",
      "Requirement already satisfied: PyDispatcher>=2.0.5 in c:\\users\\dell\\anaconda3\\envs\\py37\\lib\\site-packages (from scrapy) (2.0.5)\n",
      "Requirement already satisfied: queuelib in c:\\users\\dell\\anaconda3\\envs\\py37\\lib\\site-packages (from scrapy) (1.5.0)\n",
      "Requirement already satisfied: attrs>=16.0.0 in c:\\users\\dell\\anaconda3\\envs\\py37\\lib\\site-packages (from service-identity->scrapy) (19.1.0)\n",
      "Requirement already satisfied: pyasn1-modules in c:\\users\\dell\\anaconda3\\envs\\py37\\lib\\site-packages (from service-identity->scrapy) (0.2.6)\n",
      "Requirement already satisfied: pyasn1 in c:\\users\\dell\\anaconda3\\envs\\py37\\lib\\site-packages (from service-identity->scrapy) (0.4.7)\n",
      "Requirement already satisfied: cryptography in c:\\users\\dell\\anaconda3\\envs\\py37\\lib\\site-packages (from service-identity->scrapy) (2.6.1)\n",
      "Requirement already satisfied: incremental>=16.10.1 in c:\\users\\dell\\anaconda3\\envs\\py37\\lib\\site-packages (from Twisted>=13.1.0; python_version != \"3.4\"->scrapy) (17.5.0)\n",
      "Requirement already satisfied: constantly>=15.1 in c:\\users\\dell\\anaconda3\\envs\\py37\\lib\\site-packages (from Twisted>=13.1.0; python_version != \"3.4\"->scrapy) (15.1.0)\n",
      "Requirement already satisfied: PyHamcrest>=1.9.0 in c:\\users\\dell\\anaconda3\\envs\\py37\\lib\\site-packages (from Twisted>=13.1.0; python_version != \"3.4\"->scrapy) (1.9.0)\n",
      "Requirement already satisfied: Automat>=0.3.0 in c:\\users\\dell\\anaconda3\\envs\\py37\\lib\\site-packages (from Twisted>=13.1.0; python_version != \"3.4\"->scrapy) (0.7.0)\n",
      "Requirement already satisfied: hyperlink>=17.1.1 in c:\\users\\dell\\anaconda3\\envs\\py37\\lib\\site-packages (from Twisted>=13.1.0; python_version != \"3.4\"->scrapy) (19.0.0)\n",
      "Requirement already satisfied: zope.interface>=4.4.2 in c:\\users\\dell\\anaconda3\\envs\\py37\\lib\\site-packages (from Twisted>=13.1.0; python_version != \"3.4\"->scrapy) (4.6.0)\n",
      "Requirement already satisfied: asn1crypto>=0.21.0 in c:\\users\\dell\\anaconda3\\envs\\py37\\lib\\site-packages (from cryptography->service-identity->scrapy) (0.24.0)\n",
      "Requirement already satisfied: cffi!=1.11.3,>=1.8 in c:\\users\\dell\\anaconda3\\envs\\py37\\lib\\site-packages (from cryptography->service-identity->scrapy) (1.12.2)\n",
      "Requirement already satisfied: setuptools in c:\\users\\dell\\anaconda3\\envs\\py37\\lib\\site-packages (from PyHamcrest>=1.9.0->Twisted>=13.1.0; python_version != \"3.4\"->scrapy) (40.8.0)\n",
      "Requirement already satisfied: idna>=2.5 in c:\\users\\dell\\anaconda3\\envs\\py37\\lib\\site-packages (from hyperlink>=17.1.1->Twisted>=13.1.0; python_version != \"3.4\"->scrapy) (2.8)\n",
      "Requirement already satisfied: pycparser in c:\\users\\dell\\anaconda3\\envs\\py37\\lib\\site-packages (from cffi!=1.11.3,>=1.8->cryptography->service-identity->scrapy) (2.19)\n"
     ]
    }
   ],
   "source": [
    "! pip install scrapy"
   ]
  },
  {
   "cell_type": "code",
   "execution_count": 3,
   "metadata": {},
   "outputs": [
    {
     "name": "stdout",
     "output_type": "stream",
     "text": [
      "New Scrapy project 'myproject', using template directory 'c:\\users\\dell\\anaconda3\\envs\\py37\\lib\\site-packages\\scrapy\\templates\\project', created in:\n",
      "    C:\\Users\\Dell\\Data-Science\\Data-Scrapping\\webApi\\scrapy\\myproject\n",
      "\n",
      "You can start your first spider with:\n",
      "    cd myproject\n",
      "    scrapy genspider example example.com\n"
     ]
    }
   ],
   "source": [
    "!scrapy startproject myproject"
   ]
  },
  {
   "cell_type": "code",
   "execution_count": null,
   "metadata": {},
   "outputs": [],
   "source": []
  }
 ],
 "metadata": {
  "kernelspec": {
   "display_name": "Python 3",
   "language": "python",
   "name": "python3"
  },
  "language_info": {
   "codemirror_mode": {
    "name": "ipython",
    "version": 3
   },
   "file_extension": ".py",
   "mimetype": "text/x-python",
   "name": "python",
   "nbconvert_exporter": "python",
   "pygments_lexer": "ipython3",
   "version": "3.7.3"
  }
 },
 "nbformat": 4,
 "nbformat_minor": 2
}
