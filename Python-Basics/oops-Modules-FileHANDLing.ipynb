{
 "cells": [
  {
   "cell_type": "markdown",
   "metadata": {},
   "source": [
    "# Oops in python \n",
    "### a minimilistic python class"
   ]
  },
  {
   "cell_type": "code",
   "execution_count": 1,
   "metadata": {},
   "outputs": [
    {
     "name": "stdout",
     "output_type": "stream",
     "text": [
      "<__main__.person object at 0x0000022927D6BBE0>\n",
      "<class '__main__.person'>\n"
     ]
    }
   ],
   "source": [
    "class person():\n",
    "    pass\n",
    "\n",
    "p=person()\n",
    "print(p)\n",
    "print(type(p))"
   ]
  },
  {
   "cell_type": "markdown",
   "metadata": {},
   "source": [
    "# Let's define one person class"
   ]
  },
  {
   "cell_type": "code",
   "execution_count": 9,
   "metadata": {},
   "outputs": [
    {
     "name": "stdout",
     "output_type": "stream",
     "text": [
      "My name is pulkit\n",
      "I am from MAIT\n",
      "I am Indian\n",
      "My name is Anirudh\n",
      "I am from UPES\n",
      "I am Indian\n"
     ]
    }
   ],
   "source": [
    "class person():\n",
    "    # class variables, common for all objects in class\n",
    "    nationality=\"Indian\"\n",
    "    def __init__(self,pname,clg):\n",
    "        # instance variable,different for all object in a class\n",
    "        self.name=pname\n",
    "        self.college=clg\n",
    "    \n",
    "    def sayhi(self,name):\n",
    "        print(\"Hello\"+name)\n",
    "    \n",
    "    def introduce(self):\n",
    "        print(\"My name is\",self.name)\n",
    "        print(\"I am from\",self.college)\n",
    "        print(\"I am\",self.nationality)\n",
    "        \n",
    "        \n",
    "p=person(\"pulkit\",\"MAIT\")\n",
    "p.introduce()\n",
    "\n",
    "p=person(\"Anirudh\",\"UPES\")\n",
    "p.introduce()\n",
    "        "
   ]
  },
  {
   "cell_type": "markdown",
   "metadata": {},
   "source": [
    "# instance variable vs class variable"
   ]
  },
  {
   "cell_type": "code",
   "execution_count": 13,
   "metadata": {},
   "outputs": [
    {
     "name": "stdout",
     "output_type": "stream",
     "text": [
      "German Shefered\n",
      "['High jump', 'Roll over']\n",
      "Golden retriver\n",
      "['Low jump', 'Roll up and down']\n"
     ]
    }
   ],
   "source": [
    "class Dog():\n",
    "    \n",
    "    color=\"Brown\"\n",
    "    #Activities=[]  # this is a class variable so we cant get the required ans\n",
    "    \n",
    "    def __init__(self,breed):\n",
    "        self.Activities=[]\n",
    "        self.breed=breed\n",
    "        \n",
    "    def addActivity(self,act):\n",
    "        self.Activities.append(act)\n",
    "        \n",
    "    def doActivities(self):\n",
    "        print(self.breed)\n",
    "        print(self.Activities)\n",
    "        \n",
    "d1=Dog(\"German Shefered\")\n",
    "d2=Dog(\"Golden retriver\")\n",
    "\n",
    "d1.addActivity(\"High jump\")\n",
    "d1.addActivity(\"Roll over\")\n",
    "\n",
    "\n",
    "d2.addActivity(\"Low jump\")\n",
    "d2.addActivity(\"Roll up and down\")\n",
    "\n",
    "d1.doActivities()\n",
    "d2.doActivities()"
   ]
  },
  {
   "cell_type": "markdown",
   "metadata": {},
   "source": [
    "# Acess Modifiers"
   ]
  },
  {
   "cell_type": "code",
   "execution_count": 21,
   "metadata": {},
   "outputs": [
    {
     "name": "stdout",
     "output_type": "stream",
     "text": [
      "German Shefered\n",
      "['High jump', 'Roll over']\n",
      "Doing secret Activity German Shefered\n",
      "Golden retriver\n",
      "['Low jump', 'Roll up and down']\n",
      "Doing secret Activity Golden retriver\n"
     ]
    }
   ],
   "source": [
    "class Dog():\n",
    "    \n",
    "    color=\"Brown\"\n",
    "    #Activities=[]  # this is a class variable so we cant get the required ans\n",
    "    \n",
    "    def __init__(self,breed):\n",
    "        self.Activities=[]\n",
    "        self.breed=breed\n",
    "        \n",
    "    def __secActivity(self):                # private\n",
    "        print(\"Doing secret Activity\",self.breed)\n",
    "        \n",
    "        \n",
    "    def addActivity(self,act):\n",
    "        self.Activities.append(act)\n",
    "        \n",
    "    def doActivities(self):\n",
    "        print(self.breed)\n",
    "        print(self.Activities)\n",
    "        self.__secActivity()\n",
    "        \n",
    "d1=Dog(\"German Shefered\")\n",
    "d2=Dog(\"Golden retriver\")\n",
    "\n",
    "d1.addActivity(\"High jump\")\n",
    "d1.addActivity(\"Roll over\")\n",
    "\n",
    "\n",
    "d2.addActivity(\"Low jump\")\n",
    "d2.addActivity(\"Roll up and down\")\n",
    "\n",
    "#   d1.secActivity()   show error as  secActivity is a private\n",
    "d1.doActivities()\n",
    "#   d2.secActivity()    show error as secActivity is a  private\n",
    "d2.doActivities()\n",
    "\n",
    "\n"
   ]
  },
  {
   "cell_type": "markdown",
   "metadata": {},
   "source": [
    "# Inheritence in Python"
   ]
  },
  {
   "cell_type": "code",
   "execution_count": 35,
   "metadata": {},
   "outputs": [
    {
     "name": "stdout",
     "output_type": "stream",
     "text": [
      "Init School members: pulkit\n",
      "Init Teacher pulkit\n",
      "Name : pulkit   Age : 19\n",
      "Salary : 45000\n",
      "Init School members: pulkit\n",
      "Init Student pulkit\n",
      "Name : pulkit   Age : 19\n",
      "Marks : 100\n"
     ]
    }
   ],
   "source": [
    "class Schoolmember:\n",
    "    \n",
    "    def __init__(self,name,age):\n",
    "        self.name=name;\n",
    "        self.age=age;\n",
    "        print(\"Init School members: %s\"%(self.name))\n",
    "        \n",
    "    def introduce(self):\n",
    "        print(\"Name : %s   Age : %d\"%(self.name,self.age))\n",
    "        \n",
    "class Teacher(Schoolmember):\n",
    "    def __init__(self,name,age,salary):\n",
    "        Schoolmember.__init__(self,name,age)\n",
    "        self.salary=salary\n",
    "        print(\"Init Teacher %s\"%(self.name))\n",
    "        \n",
    "    def introduce(self):\n",
    "        Schoolmember.introduce(self)\n",
    "        print(\"Salary : %d\"%(self.salary))\n",
    "        \n",
    "class student(Schoolmember):\n",
    "    \n",
    "    def __init__(self,name,age,marks):\n",
    "        Schoolmember.__init__(self,name,age)\n",
    "        self.marks=marks\n",
    "        print(\"Init Student %s\"%self.name)\n",
    "        \n",
    "        \n",
    "    def introduce(self):\n",
    "        Schoolmember.introduce(self)\n",
    "        print(\"Marks : %d\"%(self.marks))\n",
    "    \n",
    "    \n",
    "        \n",
    "T=Teacher(\"pulkit\",19,45000)\n",
    "T.introduce()\n",
    "\n",
    "S=student(\"pulkit\",19,100)\n",
    "S.introduce()"
   ]
  },
  {
   "cell_type": "code",
   "execution_count": null,
   "metadata": {},
   "outputs": [],
   "source": []
  }
 ],
 "metadata": {
  "kernelspec": {
   "display_name": "Python 3",
   "language": "python",
   "name": "python3"
  },
  "language_info": {
   "codemirror_mode": {
    "name": "ipython",
    "version": 3
   },
   "file_extension": ".py",
   "mimetype": "text/x-python",
   "name": "python",
   "nbconvert_exporter": "python",
   "pygments_lexer": "ipython3",
   "version": "3.7.3"
  }
 },
 "nbformat": 4,
 "nbformat_minor": 2
}
