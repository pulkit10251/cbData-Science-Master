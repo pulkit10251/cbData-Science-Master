{
 "cells": [
  {
   "cell_type": "markdown",
   "metadata": {},
   "source": [
    "# file handling"
   ]
  },
  {
   "cell_type": "code",
   "execution_count": 12,
   "metadata": {},
   "outputs": [],
   "source": [
    "# reading and writing"
   ]
  },
  {
   "cell_type": "code",
   "execution_count": 13,
   "metadata": {},
   "outputs": [
    {
     "data": {
      "text/plain": [
       "'hello yo yo Honey Chili Potato \\nhello yo yo Honey Chili Potato \\nhello yo yo Honey Chili Potato \\n'"
      ]
     },
     "execution_count": 13,
     "metadata": {},
     "output_type": "execute_result"
    }
   ],
   "source": [
    "f=open(\"migrated.txt\",'r')\n",
    "f.read()"
   ]
  },
  {
   "cell_type": "code",
   "execution_count": 14,
   "metadata": {},
   "outputs": [],
   "source": [
    "#f.close()"
   ]
  },
  {
   "cell_type": "code",
   "execution_count": 15,
   "metadata": {},
   "outputs": [],
   "source": [
    "f=open(\"migrated.txt\",'w+')\n",
    "content=\"hello yo yo Honey Chili Potato \\n\"\n",
    "list=[content]*3\n",
    "\n",
    "f.writelines(list)\n",
    "f.close()"
   ]
  },
  {
   "cell_type": "code",
   "execution_count": 16,
   "metadata": {},
   "outputs": [
    {
     "name": "stdout",
     "output_type": "stream",
     "text": [
      "['hello yo yo Honey Chili Potato \\n', 'hello yo yo Honey Chili Potato \\n', 'hello yo yo Honey Chili Potato \\n']\n"
     ]
    }
   ],
   "source": [
    "f=open(\"migrated.txt\",'r')\n",
    "list=f.readlines()\n",
    "print(list)\n",
    "f.close()"
   ]
  },
  {
   "cell_type": "markdown",
   "metadata": {},
   "source": [
    "# reading using with open"
   ]
  },
  {
   "cell_type": "code",
   "execution_count": 20,
   "metadata": {},
   "outputs": [
    {
     "name": "stdout",
     "output_type": "stream",
     "text": [
      "hello yo yo Honey Chili Potato \n",
      "hello yo yo Honey Chili Potato \n",
      "hello yo yo Honey Chili Potato \n",
      "\n",
      "False\n"
     ]
    }
   ],
   "source": [
    "with open(\"migrated.txt\",'r') as f:\n",
    "    print(f.read())\n",
    "    print(f.closed) # tells if the file is open or closed\n",
    "    \n",
    "    # file will be automaticallly closed after each block"
   ]
  },
  {
   "cell_type": "code",
   "execution_count": 28,
   "metadata": {},
   "outputs": [
    {
     "name": "stdout",
     "output_type": "stream",
     "text": [
      "\n",
      "hello yo yo Honey Chili Potato \n",
      "hello yo yo Honey Chili Potato \n",
      "\n"
     ]
    }
   ],
   "source": [
    "with open(\"migrated.txt\",'r') as f:\n",
    "    f.seek(32)\n",
    "    print(f.read())"
   ]
  },
  {
   "cell_type": "markdown",
   "metadata": {},
   "source": [
    "# JSON"
   ]
  },
  {
   "cell_type": "code",
   "execution_count": 2,
   "metadata": {},
   "outputs": [
    {
     "name": "stdout",
     "output_type": "stream",
     "text": [
      "<class 'dict'>\n",
      "{'name': 'A1', 'Age': 30}\n"
     ]
    }
   ],
   "source": [
    "import json\n",
    "\n",
    "book={\n",
    "    \"name\":\"learning python\",\n",
    "    \"page\":320,\n",
    "    \"authors\":[\n",
    "        {\n",
    "            \"name\":\"A1\",\n",
    "            \"Age\":30\n",
    "        },\n",
    "        {\n",
    "            \"name\":\"A2\",\n",
    "            \"Age\":40\n",
    "        }\n",
    "    ]\n",
    "    \n",
    "}\n",
    "print(type(book))\n",
    "print(book['authors'][0])"
   ]
  },
  {
   "cell_type": "code",
   "execution_count": 3,
   "metadata": {},
   "outputs": [],
   "source": [
    "with open(\"myjsonfile.json\",'w') as f:\n",
    "    json.dump(book,f)\n",
    "    "
   ]
  },
  {
   "cell_type": "code",
   "execution_count": 6,
   "metadata": {},
   "outputs": [
    {
     "name": "stdout",
     "output_type": "stream",
     "text": [
      "{\"name\": \"learning python\", \"page\": 320, \"authors\": [{\"name\": \"A1\", \"Age\": 30}, {\"name\": \"A2\", \"Age\": 40}]}\n",
      "<class 'str'>\n"
     ]
    }
   ],
   "source": [
    "s=json.dumps(book) # returns a string\n",
    "print(s)\n",
    "print(type(s))"
   ]
  },
  {
   "cell_type": "code",
   "execution_count": 8,
   "metadata": {},
   "outputs": [
    {
     "name": "stdout",
     "output_type": "stream",
     "text": [
      "{'name': 'learning python', 'page': 320, 'authors': [{'name': 'A1', 'Age': 30}, {'name': 'A2', 'Age': 40}]}\n",
      "<class 'dict'>\n"
     ]
    }
   ],
   "source": [
    "obj=json.loads(s)\n",
    "print(obj)\n",
    "print(type(obj))"
   ]
  },
  {
   "cell_type": "code",
   "execution_count": 13,
   "metadata": {},
   "outputs": [
    {
     "name": "stdout",
     "output_type": "stream",
     "text": [
      "{'authors': [{'Age': 30, 'name': 'A1'}, {'Age': 40, 'name': 'A2'}],\n",
      " 'name': 'learning python',\n",
      " 'page': 320}\n"
     ]
    }
   ],
   "source": [
    "import pprint\n",
    "with open(\"myjsonfile.json\",'r') as f:\n",
    "    data=json.load(f)\n",
    "    #print(data)\n",
    "    pprint.pprint(data)"
   ]
  },
  {
   "cell_type": "markdown",
   "metadata": {},
   "source": [
    "# Exception Handling in Python"
   ]
  },
  {
   "cell_type": "code",
   "execution_count": 28,
   "metadata": {},
   "outputs": [
    {
     "name": "stdout",
     "output_type": "stream",
     "text": [
      "Enter your name : p\n",
      "please Enter a valid name (big)\n",
      "<class 'Exception'>\n",
      "it is always there\n"
     ]
    }
   ],
   "source": [
    "try:\n",
    "    \n",
    "    a=input(\"Enter your name : \")\n",
    "    if len(a)<3:\n",
    "        raise Exception\n",
    "    #f=open(\"SomeMissingfile.txt\",'r')\n",
    "    \n",
    "except NameError:\n",
    "    print(\"b is not defined\")\n",
    "    print(NameError)\n",
    "    \n",
    "except FileNotFoundError:\n",
    "    print(\"File do not exist please reupload\")\n",
    "    \n",
    "except Exception:\n",
    "    print(\"please Enter a valid name (big)\")\n",
    "    print(Exception)\n",
    "    \n",
    "else:\n",
    "    print(\"try executed without any error\")\n",
    "    print(\"form submitted successfuly\")\n",
    "    \n",
    "    \n",
    "finally:\n",
    "    print(\"it is always there\")"
   ]
  },
  {
   "cell_type": "code",
   "execution_count": null,
   "metadata": {},
   "outputs": [],
   "source": []
  },
  {
   "cell_type": "code",
   "execution_count": null,
   "metadata": {},
   "outputs": [],
   "source": []
  }
 ],
 "metadata": {
  "kernelspec": {
   "display_name": "Python 3",
   "language": "python",
   "name": "python3"
  },
  "language_info": {
   "codemirror_mode": {
    "name": "ipython",
    "version": 3
   },
   "file_extension": ".py",
   "mimetype": "text/x-python",
   "name": "python",
   "nbconvert_exporter": "python",
   "pygments_lexer": "ipython3",
   "version": "3.7.3"
  }
 },
 "nbformat": 4,
 "nbformat_minor": 2
}
