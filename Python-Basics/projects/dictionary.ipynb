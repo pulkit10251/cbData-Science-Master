{
 "cells": [
  {
   "cell_type": "code",
   "execution_count": 17,
   "metadata": {},
   "outputs": [],
   "source": [
    "import json\n",
    "import difflib as dfl"
   ]
  },
  {
   "cell_type": "code",
   "execution_count": 18,
   "metadata": {},
   "outputs": [],
   "source": [
    "data=json.load(open(\"data.json\"))"
   ]
  },
  {
   "cell_type": "code",
   "execution_count": 29,
   "metadata": {},
   "outputs": [
    {
     "name": "stdout",
     "output_type": "stream",
     "text": [
      "Enter the word you want to search for :assi\n",
      "word not found....the closest matches are:\n",
      "1   lassi\n",
      "2   ass\n",
      "3   assist\n",
      "To check  meaning of any of these input the number :\n",
      "2\n",
      "1   A domesticated animal, Equus asinus.\n",
      "2   A strongly disliked person who behaves disgustingly, underhandedly, or nastily, etc.\n",
      "3   The fleshy part of the human body that one sits on.\n"
     ]
    }
   ],
   "source": [
    "word=input(\"Enter the word you want to search for :\")\n",
    "word=word.lower()\n",
    "if word in data:\n",
    "    for i in range(len(data[word])):\n",
    "        print(i+1,\" \",data[word][i])\n",
    "else:\n",
    "    print(\"word not found....the closest matches are:\")    \n",
    "    li=dfl.get_close_matches(word,data)\n",
    "    for i in range(len(li)):\n",
    "        print(i+1,\" \", li[i])\n",
    "    print(\"To check  meaning of any of these input the number :\")\n",
    "    a=int(input())\n",
    "    for i in range(len(data[li[a-1]])):\n",
    "        print(i+1,\" \",data[li[a-1]][i])\n",
    "   "
   ]
  },
  {
   "cell_type": "code",
   "execution_count": null,
   "metadata": {},
   "outputs": [],
   "source": []
  },
  {
   "cell_type": "code",
   "execution_count": null,
   "metadata": {},
   "outputs": [],
   "source": []
  }
 ],
 "metadata": {
  "kernelspec": {
   "display_name": "Python 3",
   "language": "python",
   "name": "python3"
  },
  "language_info": {
   "codemirror_mode": {
    "name": "ipython",
    "version": 3
   },
   "file_extension": ".py",
   "mimetype": "text/x-python",
   "name": "python",
   "nbconvert_exporter": "python",
   "pygments_lexer": "ipython3",
   "version": "3.7.3"
  }
 },
 "nbformat": 4,
 "nbformat_minor": 2
}
