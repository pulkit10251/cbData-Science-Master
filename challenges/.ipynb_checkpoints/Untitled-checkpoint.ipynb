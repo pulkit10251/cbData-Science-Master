{
 "cells": [
  {
   "cell_type": "code",
   "execution_count": 3,
   "metadata": {},
   "outputs": [
    {
     "name": "stdout",
     "output_type": "stream",
     "text": [
      "True\n"
     ]
    }
   ],
   "source": [
    "def wholeinc(list):\n",
    "    for i in range(0,len(list)-1):\n",
    "        if list[i]>list[i+1]:\n",
    "            return False\n",
    "\n",
    "    return True\n",
    "\n",
    "l=[1,2,3,4,5]\n",
    "print(wholeinc(l))"
   ]
  },
  {
   "cell_type": "code",
   "execution_count": 5,
   "metadata": {},
   "outputs": [
    {
     "name": "stdout",
     "output_type": "stream",
     "text": [
      "5\n",
      "5\n",
      "4\n",
      "3\n",
      "2\n",
      "3\n",
      "false\n"
     ]
    }
   ],
   "source": [
    "def indecSeq(list) :\n",
    "    start=0\n",
    "    end=len(list)-1\n",
    "    while(start!=end):\n",
    "        if list[start]>list[start+1]:\n",
    "            start=start+1\n",
    "        else:\n",
    "            return False\n",
    "\n",
    "        if list[end]>list[end-1]:\n",
    "            end=end-1\n",
    "        else:\n",
    "            return False\n",
    "    \n",
    "    return True\n",
    "\n",
    "def wholedec(list):\n",
    "    for i in range(0,len(list)-1):\n",
    "        if list[i]<list[i+1]:\n",
    "            return False\n",
    "\n",
    "    return True\n",
    "\n",
    "def wholeinc(list):\n",
    "    for i in range(0,len(list)-1):\n",
    "        if list[i]>list[i+1]:\n",
    "            return False\n",
    "\n",
    "    return True\n",
    "\n",
    "def partinc(list):\n",
    "    for i in range(1,len(list)-1):\n",
    "        if list[i]>list[i+1]:\n",
    "            return False\n",
    "        \n",
    "    return True\n",
    "\n",
    "\n",
    "def partdec(list):\n",
    "    for i in range(len(list)-2,-1,-1):\n",
    "        if list[i]<list[i+1]:\n",
    "            return False\n",
    "\n",
    "    return True\n",
    "    \n",
    "\n",
    "\n",
    "n=int(input())\n",
    "list=[]\n",
    "for i in range(0,n):\n",
    "    a=int(input())\n",
    "    list.append(a)\n",
    "    \n",
    "if indecSeq(list)==False:\n",
    "    if wholedec(list)==True:\n",
    "        print(\"true\")\n",
    "    elif wholeinc(list)==True:\n",
    "        print(\"true\")\n",
    "    elif partinc(list)==True:\n",
    "        print(\"true\")  \n",
    "    elif \n",
    "        print(\"true\")\n",
    "    else:\n",
    "        print(\"false\")\n",
    "\n",
    "else:\n",
    "    print(\"true\")"
   ]
  },
  {
   "cell_type": "code",
   "execution_count": 24,
   "metadata": {},
   "outputs": [
    {
     "name": "stdout",
     "output_type": "stream",
     "text": [
      "5\n",
      "5\n",
      "5\n",
      "4\n",
      "3\n",
      "2\n",
      "False\n"
     ]
    }
   ],
   "source": [
    "def wholedec(list):\n",
    "    for i in range(0,len(list)-1):\n",
    "        if list[i]<list[i+1]:\n",
    "            return False\n",
    "\n",
    "    return True\n",
    "\n",
    "\n",
    "def wholeinc(list):\n",
    "    for i in range(0,len(list)-1):\n",
    "        if list[i]>list[i+1]:\n",
    "            return False\n",
    "\n",
    "    return True\n",
    "def multipple(list):\n",
    "    for i in range(0,len(list)-1):\n",
    "        if list[i]==list[i+1]:\n",
    "            return False\n",
    "        \n",
    "    return True\n",
    "\n",
    "def seq(list):\n",
    "    if len(list)==1:\n",
    "        return True\n",
    "    elif wholedec(list)==True:\n",
    "        return True\n",
    "    elif wholeinc(list)==True:\n",
    "        return True\n",
    "    else:\n",
    "        j=0;\n",
    "        for i in range(0,len(list)-1):\n",
    "            if list[i]>list[i+1]:\n",
    "                j=j+1\n",
    "            \n",
    "        cv=j\n",
    "        nlist=[]\n",
    "        for i in range(0,len(list)-cv):\n",
    "            nlist.append(list[j])\n",
    "            j=j+1\n",
    "            \n",
    "        if wholeinc(nlist)==True:\n",
    "            return True\n",
    "        \n",
    "        return False\n",
    "    \n",
    "\n",
    "\n",
    "n=int(input())\n",
    "list=[]\n",
    "for i in range(0,n):\n",
    "    a=int(input())\n",
    "    list.append(a)\n",
    "\n",
    "if multipple(list)==False:\n",
    "    print(\"False\")\n",
    "elif seq(list)==True:\n",
    "    print(\"true\")\n",
    "else:\n",
    "    print(\"false\")"
   ]
  },
  {
   "cell_type": "code",
   "execution_count": 31,
   "metadata": {},
   "outputs": [
    {
     "name": "stdout",
     "output_type": "stream",
     "text": [
      "1\n",
      "625\n",
      "(0,25) (7,24) (15,20) \n"
     ]
    }
   ],
   "source": [
    "# pythagorean triplets\n",
    "\n",
    "t=int(input())\n",
    "for k in range(0,t):\n",
    "    n=int(input())\n",
    "    \n",
    "    for i in range(0,n):\n",
    "        for j in range (i+1,n+1):\n",
    "            ans=i**2+j**2\n",
    "            if(ans==n):\n",
    "                print(\"(\",end=\"\")\n",
    "                print(i,end=\"\")\n",
    "                print(\",\",end=\"\")\n",
    "                print(j,end=\"\")\n",
    "                print(\")\",end=\" \")\n",
    "                \n",
    "    print()            "
   ]
  },
  {
   "cell_type": "code",
   "execution_count": 34,
   "metadata": {},
   "outputs": [
    {
     "name": "stdout",
     "output_type": "stream",
     "text": [
      "32\n",
      "Not Prime\n"
     ]
    }
   ],
   "source": [
    "def checkprime(n):\n",
    "    count=0\n",
    "    for i in range(1,n):\n",
    "        if n%i==0:\n",
    "            count=count+1\n",
    "            \n",
    "    if count==1:\n",
    "        print(\"Prime\")\n",
    "    else:\n",
    "        print(\"Not Prime\")\n",
    "        \n",
    "\n",
    "n=int(input())\n",
    "checkprime(n)"
   ]
  },
  {
   "cell_type": "code",
   "execution_count": 18,
   "metadata": {},
   "outputs": [
    {
     "name": "stdout",
     "output_type": "stream",
     "text": [
      "2\n",
      "1 10\n",
      "2 3 5 7 \n",
      "3 5\n",
      "3 5 \n"
     ]
    }
   ],
   "source": [
    "def ccheckprime(n):\n",
    "    count=0\n",
    "    for i in range(1,n):\n",
    "        if n%i==0:\n",
    "            count=count+1\n",
    "    if count==1:\n",
    "        print(n,end=\" \")\n",
    "    \n",
    "        \n",
    "n=int(input())\n",
    "for t in range (0,n):\n",
    "    \n",
    "        \n",
    "    lst=[int(n) for n in input().split()]\n",
    "    for i in range(lst[0],lst[1]+1):\n",
    "        ccheckprime(i)\n",
    "    print() \n",
    "    \n",
    "        "
   ]
  },
  {
   "cell_type": "code",
   "execution_count": null,
   "metadata": {},
   "outputs": [],
   "source": []
  },
  {
   "cell_type": "code",
   "execution_count": 3,
   "metadata": {},
   "outputs": [
    {
     "name": "stdout",
     "output_type": "stream",
     "text": [
      "[]\n",
      "[True, True, True, True, True, True, True, True, True, True, True]\n",
      "[True, True, True, True, False, True, False, True, False, False, False]\n",
      "2 3 5 7 "
     ]
    }
   ],
   "source": [
    "def primesoe(n):\n",
    "    prime=[]\n",
    "    print(prime)\n",
    "    for i in range(0,n+1):\n",
    "        prime.append(True)\n",
    "    print(prime)\n",
    "    i=2\n",
    "    while(i*i <=n):\n",
    "        if prime[i]==True:\n",
    "            for j in range(i*i,n+1,i):\n",
    "                prime[j]=False;\n",
    "        i=i+1\n",
    "                    \n",
    "    print(prime)                \n",
    "    for i in range(2,n+1):\n",
    "        if prime[i]==True:\n",
    "            print(i,end=\" \")\n",
    "            \n",
    "            \n",
    "primesoe(10)"
   ]
  },
  {
   "cell_type": "code",
   "execution_count": 6,
   "metadata": {},
   "outputs": [
    {
     "name": "stdout",
     "output_type": "stream",
     "text": [
      "2\n",
      "1 10\n",
      "2 3 5 7 \n",
      "3 5\n",
      "3 5 \n"
     ]
    }
   ],
   "source": [
    "def primeGen(a,b):\n",
    "    prime=[]\n",
    "    for i in range(0,b+1):\n",
    "        prime.append(True)\n",
    "    i=2\n",
    "    while(i*i <=b):\n",
    "        if prime[i]==True:\n",
    "            for j in range(i*i,b+1,i):\n",
    "                prime[j]=False;\n",
    "        i=i+1\n",
    "    if a==1:\n",
    "        n=2\n",
    "    else:\n",
    "        n=a\n",
    "    for  i in range(n,b+1):\n",
    "        if prime[i]==True:\n",
    "            print(i,end=\" \")\n",
    "    print()\n",
    "    \n",
    "    \n",
    "n=int(input())\n",
    "for t in range (0,n):\n",
    "    lst=[int(n) for n in input().split()]\n",
    "    primeGen(lst[0],lst[1])\n",
    "\n",
    "            "
   ]
  },
  {
   "cell_type": "code",
   "execution_count": 9,
   "metadata": {},
   "outputs": [
    {
     "name": "stdout",
     "output_type": "stream",
     "text": [
      "3\n",
      "5\n",
      "5\n",
      "5\n",
      "7\n",
      "7\n",
      "7\n",
      "7\n",
      "7\n",
      "9\n",
      "11\n",
      "11\n",
      "11\n",
      "11\n",
      "11\n",
      "11\n",
      "11\n",
      "11\n",
      "11\n",
      "13\n",
      "13\n",
      "13\n",
      "13\n",
      "13\n",
      "13\n",
      "13\n",
      "13\n",
      "13\n",
      "13\n",
      "13\n",
      "15\n",
      "17\n",
      "17\n",
      "17\n",
      "17\n",
      "17\n",
      "17\n",
      "17\n",
      "17\n",
      "17\n",
      "17\n",
      "17\n",
      "17\n",
      "17\n",
      "17\n",
      "17\n",
      "19\n",
      "19\n",
      "19\n",
      "19\n",
      "19\n",
      "19\n",
      "19\n",
      "19\n",
      "19\n",
      "19\n",
      "19\n",
      "19\n",
      "19\n",
      "19\n",
      "19\n",
      "19\n",
      "19\n"
     ]
    }
   ],
   "source": [
    "def primeGen2(a,b):\n",
    "    \n",
    "    for val in range(a, b+1): \n",
    "      \n",
    "   # If num is divisible by any number   \n",
    "   # between 2 and val, it is not prime  \n",
    "        if val > 1: \n",
    "            for n in range(2, val): \n",
    "                if (val % n) == 0: \n",
    "                    break\n",
    "                else: \n",
    "                    print(val) \n",
    "                    \n",
    "primeGen2(1,20)\n",
    "\n",
    "    "
   ]
  },
  {
   "cell_type": "markdown",
   "metadata": {},
   "source": [
    "# Quicksort"
   ]
  },
  {
   "cell_type": "code",
   "execution_count": 1,
   "metadata": {},
   "outputs": [
    {
     "name": "stdout",
     "output_type": "stream",
     "text": [
      "5\n",
      "1 5 4 6 3\n",
      "1 3 4 5 6 "
     ]
    }
   ],
   "source": [
    "import math\n",
    "def Quicksort(lo,hi,li=[]):\n",
    "    if lo>=hi :\n",
    "        return\n",
    "    \n",
    "    mid=math.floor((lo+hi)/2)\n",
    "    pivot=li[mid]\n",
    "    \n",
    "    left=lo\n",
    "    right=hi\n",
    "    \n",
    "    while(left <= right):\n",
    "        \n",
    "        while li[left]<pivot:\n",
    "            left=left+1;\n",
    "        while li[right]>pivot:\n",
    "            right=right-1\n",
    "            \n",
    "        if left<=right:\n",
    "            temp=li[left]\n",
    "            li[left]=li[right]\n",
    "            li[right]=temp\n",
    "            \n",
    "            left=left+1\n",
    "            right=right-1\n",
    "            \n",
    "        Quicksort(lo,right,li)\n",
    "        Quicksort(left,hi,li)\n",
    "        \n",
    "        \n",
    "\n",
    "        \n",
    "n=int(input())\n",
    "li=[int(a) for a in input().split() ]\n",
    "Quicksort(0,len(li)-1,li)\n",
    "for val in li:\n",
    "    print(val,end=\" \")"
   ]
  },
  {
   "cell_type": "code",
   "execution_count": null,
   "metadata": {},
   "outputs": [],
   "source": [
    "import math\n",
    "from array import *\n",
    "def Quicksort(lo,hi,li):\n",
    "    if lo>=hi :\n",
    "        return\n",
    "    \n",
    "    mid=math.floor((lo+hi)/2)\n",
    "    pivot=li[mid]\n",
    "    \n",
    "    left=lo\n",
    "    right=hi\n",
    "    \n",
    "    while(left <= right):\n",
    "        \n",
    "        while li[left]<pivot:\n",
    "            left=left+1;\n",
    "        while li[right]>pivot:\n",
    "            right=right-1\n",
    "            \n",
    "        if left<=right:\n",
    "            temp=li[left]\n",
    "            li[left]=li[right]\n",
    "            li[right]=temp\n",
    "            \n",
    "            left=left+1\n",
    "            right=right-1\n",
    "            \n",
    "        Quicksort(lo,right,li)\n",
    "        Quicksort(left,hi,li)\n",
    "        \n",
    "        \n",
    "arr=array('i',[])\n",
    "for i in range(n):\n",
    "        x = int(input())\n",
    "        arr.append(x)\n",
    "Quicksort(0,n-1,arr)\n",
    "        \n",
    "for i in range(n):\n",
    "    print (arr[i],end=' ') "
   ]
  },
  {
   "cell_type": "code",
   "execution_count": null,
   "metadata": {},
   "outputs": [],
   "source": []
  }
 ],
 "metadata": {
  "kernelspec": {
   "display_name": "Python 3",
   "language": "python",
   "name": "python3"
  },
  "language_info": {
   "codemirror_mode": {
    "name": "ipython",
    "version": 3
   },
   "file_extension": ".py",
   "mimetype": "text/x-python",
   "name": "python",
   "nbconvert_exporter": "python",
   "pygments_lexer": "ipython3",
   "version": "3.7.3"
  }
 },
 "nbformat": 4,
 "nbformat_minor": 2
}
